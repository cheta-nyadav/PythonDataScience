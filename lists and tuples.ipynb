{
 "cells": [
  {
   "cell_type": "markdown",
   "id": "2f9f6fe5",
   "metadata": {},
   "source": [
    "# Tuples\n",
    "are ordered sequences\n",
    "comma separated elementts inisde paranethese\n",
    "can contain all data types inside.\n",
    "tuples are <b> immutable</b>"
   ]
  },
  {
   "cell_type": "code",
   "execution_count": 73,
   "id": "16208a04",
   "metadata": {},
   "outputs": [
    {
     "data": {
      "text/plain": [
       "('chetan', 52, 1.032, 'nicki', 85, 1.26)"
      ]
     },
     "execution_count": 73,
     "metadata": {},
     "output_type": "execute_result"
    }
   ],
   "source": [
    "tuple1=(\"chetan\",52,1.032)\n",
    "tuple2=(\"nicki\",85,1.260)\n",
    "tuple3=tuple1+tuple2\n",
    "tuple3\n",
    "# + concatenates"
   ]
  },
  {
   "cell_type": "markdown",
   "id": "cf82c7b2",
   "metadata": {},
   "source": [
    "for slicing <b> tuple[1:5] </b> one thing to notice is how the last index specified in the slice is one larger than the required index.\n",
    "as shown."
   ]
  },
  {
   "cell_type": "code",
   "execution_count": 74,
   "id": "a86df7a5",
   "metadata": {},
   "outputs": [
    {
     "data": {
      "text/plain": [
       "'l'"
      ]
     },
     "execution_count": 74,
     "metadata": {},
     "output_type": "execute_result"
    }
   ],
   "source": [
    "t=(\"h\",\"e\",\"l\",\"l\",\"o\")\n",
    "t[1:2]\n",
    "t[2:5]\n",
    "t[2:100]\n",
    "t[2]"
   ]
  },
  {
   "cell_type": "code",
   "execution_count": 75,
   "id": "3c8ba896",
   "metadata": {},
   "outputs": [
    {
     "data": {
      "text/plain": [
       "[1, 1, 2, 2, 4, 4, 4, 5, 6, 7, 7, 8, 9]"
      ]
     },
     "execution_count": 75,
     "metadata": {},
     "output_type": "execute_result"
    }
   ],
   "source": [
    "sales=(4,5,8,1,2,6,9,7,4,4,1,2,7)\n",
    "quartersales=sorted(sales)\n",
    "quartersales"
   ]
  },
  {
   "cell_type": "markdown",
   "id": "f0a9068e",
   "metadata": {},
   "source": [
    "## nesting of tuples\n",
    "tuples can be nested as well like usual data types we have as fololows for exmaple\n"
   ]
  },
  {
   "cell_type": "code",
   "execution_count": 76,
   "id": "644a0e5c",
   "metadata": {},
   "outputs": [
    {
     "data": {
      "text/plain": [
       "'tuple'"
      ]
     },
     "execution_count": 76,
     "metadata": {},
     "output_type": "execute_result"
    }
   ],
   "source": [
    "nestedtuple=(1,2,(3,4),5,6)\n",
    "nestedtuple\n",
    "ns=(\"this\",85,(\"is\",\"an\"),4.056,(\"nested\",(\"tuple\",\"in\")),\"tuple\")\n",
    "ns\n",
    "ns[4][1][0]"
   ]
  },
  {
   "cell_type": "markdown",
   "id": "ad4ee141",
   "metadata": {},
   "source": [
    "# Lists\n",
    " are also ordered sequences\n",
    " are represented within square brackets\n",
    " Lists are <b> mutable </b>"
   ]
  },
  {
   "cell_type": "code",
   "execution_count": 77,
   "id": "c65f9178",
   "metadata": {},
   "outputs": [],
   "source": [
    "list=[\"this is a list\",25,84.25,[2,0]]"
   ]
  },
  {
   "cell_type": "markdown",
   "id": "771afa88",
   "metadata": {},
   "source": [
    "slicing conventions is the same as tuples. + operate=or concatenates"
   ]
  },
  {
   "cell_type": "code",
   "execution_count": 78,
   "id": "3edeba4f",
   "metadata": {},
   "outputs": [
    {
     "name": "stdout",
     "output_type": "stream",
     "text": [
      "['this', 'is', 'a', 'cat']\n"
     ]
    }
   ],
   "source": [
    "#mutabilty\n",
    "l=[\"this\",\"is\",\"an\",\"cat\"]\n",
    "l[2]=\"a\"\n",
    "print(l)"
   ]
  },
  {
   "cell_type": "code",
   "execution_count": 79,
   "id": "e9fd2c27",
   "metadata": {},
   "outputs": [
    {
     "data": {
      "text/plain": [
       "[45, 3, 'ni hao', 87, 4.2, 'chun li']"
      ]
     },
     "execution_count": 79,
     "metadata": {},
     "output_type": "execute_result"
    }
   ],
   "source": [
    "l1=[45,3,\"ni hao\"]\n",
    "l2=[87,4.2,\"chun li\"]\n",
    "l3=l1+l2\n",
    "l3"
   ]
  },
  {
   "cell_type": "markdown",
   "id": "620c016a",
   "metadata": {},
   "source": [
    "## operations\n",
    "<ul>\n",
    "    <li> append\n",
    "        <li>pop\n",
    "            <li> copy\n",
    "                <li>clear\n",
    "                    <li>count\n",
    "                        <li>extend\n",
    "                            <li>insert\n",
    "                                <li>remove\n",
    "                                    <li>reverse\n",
    "                                        <li>sort\n",
    " </ul>"
   ]
  },
  {
   "cell_type": "markdown",
   "id": "0d8db878",
   "metadata": {},
   "source": [
    "## append()\n",
    "adds a single input at the end of the list,\n",
    "we can ppass a single intger, string or another list but it will add to just one index only."
   ]
  },
  {
   "cell_type": "code",
   "execution_count": 80,
   "id": "64ca91c0",
   "metadata": {},
   "outputs": [
    {
     "data": {
      "text/plain": [
       "[4, 5, -1, 8, 1, [5, 6, 7]]"
      ]
     },
     "execution_count": 80,
     "metadata": {},
     "output_type": "execute_result"
    }
   ],
   "source": [
    "a=[4,5,-1,8]\n",
    "a.append(1)\n",
    "a.append([5,6,7])\n",
    "a"
   ]
  },
  {
   "cell_type": "markdown",
   "id": "3f2ef50f",
   "metadata": {},
   "source": [
    "## pop()\n",
    "to delete a single item from the end of the list\n",
    "it takes no arguments\n",
    "but it returns a value"
   ]
  },
  {
   "cell_type": "code",
   "execution_count": 81,
   "id": "66971b4c",
   "metadata": {},
   "outputs": [
    {
     "name": "stdout",
     "output_type": "stream",
     "text": [
      "[4, 5, -1, 8, 1]\n"
     ]
    }
   ],
   "source": [
    "a.pop()\n",
    "print(a)"
   ]
  },
  {
   "cell_type": "markdown",
   "id": "c46e2dc7",
   "metadata": {},
   "source": [
    "## clear()\n",
    "empties the list completely\n",
    "results in an empty list"
   ]
  },
  {
   "cell_type": "code",
   "execution_count": 82,
   "id": "337c763c",
   "metadata": {},
   "outputs": [
    {
     "name": "stdout",
     "output_type": "stream",
     "text": [
      "['chetan', 'chunli', 'nihao']\n",
      "[]\n"
     ]
    }
   ],
   "source": [
    "l=[\"chetan\",\"chunli\",\"nihao\"]\n",
    "print(l)\n",
    "l.clear()\n",
    "print(l)"
   ]
  },
  {
   "cell_type": "markdown",
   "id": "2231be09",
   "metadata": {},
   "source": [
    "## copy()\n",
    "makes a copy to be assigned to a new variable\n",
    "the nested values stil behave as linked"
   ]
  },
  {
   "cell_type": "code",
   "execution_count": 83,
   "id": "da64cda3",
   "metadata": {},
   "outputs": [
    {
     "name": "stdout",
     "output_type": "stream",
     "text": [
      "['chetan', ['ram', 'yadav'], 'yadav', 'ram', 'yadav']\n",
      "['chetan', ['ram', 'singh'], 'yadav', 'ram', 'yadav']\n",
      "['chetan', ['ram', 'singh'], 'yadav', 'ram', 'yadav']\n"
     ]
    }
   ],
   "source": [
    "l=[\"chetan\",[\"ram\",\"yadav\"],\"yadav\",\"ram\",\"yadav\"]\n",
    "l_copy=l.copy()\n",
    "print(l_copy)\n",
    "\n",
    "#this change gets reflected in both copy and orriginal\n",
    "l_copy[1][1]=\"singh\"\n",
    "print(l)\n",
    "print(l_copy)"
   ]
  },
  {
   "cell_type": "markdown",
   "id": "5264daa5",
   "metadata": {},
   "source": [
    "## count()\n",
    "counts the number of occurences of a varibale passed as an arguments in the list,\n",
    "no. of occurnces of input"
   ]
  },
  {
   "cell_type": "code",
   "execution_count": 84,
   "id": "2d4dd2df",
   "metadata": {},
   "outputs": [
    {
     "data": {
      "text/plain": [
       "2"
      ]
     },
     "execution_count": 84,
     "metadata": {},
     "output_type": "execute_result"
    }
   ],
   "source": [
    "l.count(\"ram\")\n",
    "l.count(\"yadav\")"
   ]
  },
  {
   "cell_type": "markdown",
   "id": "ac84a608",
   "metadata": {},
   "source": [
    "## extends()\n",
    "takes another list as input and adds it to the end, maintianing the indexes or as individual elements unlike append."
   ]
  },
  {
   "cell_type": "code",
   "execution_count": 85,
   "id": "ce5346cd",
   "metadata": {},
   "outputs": [
    {
     "data": {
      "text/plain": [
       "[45, 3, 'ni hao', 'chun li', 458.3, 77]"
      ]
     },
     "execution_count": 85,
     "metadata": {},
     "output_type": "execute_result"
    }
   ],
   "source": [
    "l1\n",
    "lex=[\"chun li\",458.3,77]\n",
    "l1.extend(lex)\n",
    "l1\n",
    "\n"
   ]
  },
  {
   "cell_type": "markdown",
   "id": "3b1de220",
   "metadata": {},
   "source": [
    "## index()\n",
    "retuns the index of first occurence of passed input/ argument in the list"
   ]
  },
  {
   "cell_type": "code",
   "execution_count": 86,
   "id": "578c704d",
   "metadata": {},
   "outputs": [
    {
     "data": {
      "text/plain": [
       "3"
      ]
     },
     "execution_count": 86,
     "metadata": {},
     "output_type": "execute_result"
    }
   ],
   "source": [
    "l1.index(458.3)\n",
    "l1.index(\"chun li\")"
   ]
  },
  {
   "cell_type": "markdown",
   "id": "2eb63d0d",
   "metadata": {},
   "source": [
    "## insert()\n",
    "to insert an element at the  specific index in the list\n",
    "< its req index> , <value to be inserted> "
   ]
  },
  {
   "cell_type": "code",
   "execution_count": 87,
   "id": "65525956",
   "metadata": {},
   "outputs": [
    {
     "data": {
      "text/plain": [
       "['chetan', ['ram', 'singh'], 'aman', 'yadav', 'ram', 'yadav']"
      ]
     },
     "execution_count": 87,
     "metadata": {},
     "output_type": "execute_result"
    }
   ],
   "source": [
    "l.insert(2,\"aman\")\n",
    "l"
   ]
  },
  {
   "cell_type": "markdown",
   "id": "0e5220bc",
   "metadata": {},
   "source": [
    "## remove()\n",
    "to remove any specified element from the list\n"
   ]
  },
  {
   "cell_type": "code",
   "execution_count": 88,
   "id": "c2e2c6b9",
   "metadata": {},
   "outputs": [
    {
     "data": {
      "text/plain": [
       "['chetan', ['ram', 'singh'], 'yadav', 'ram', 'yadav']"
      ]
     },
     "execution_count": 88,
     "metadata": {},
     "output_type": "execute_result"
    }
   ],
   "source": [
    "l.remove(\"aman\")\n",
    "l"
   ]
  },
  {
   "cell_type": "markdown",
   "id": "46bf3a1f",
   "metadata": {},
   "source": [
    "## reverse"
   ]
  },
  {
   "cell_type": "code",
   "execution_count": 89,
   "id": "1f83ffbc",
   "metadata": {},
   "outputs": [
    {
     "data": {
      "text/plain": [
       "['yadav', 'ram', 'yadav', ['ram', 'singh'], 'chetan']"
      ]
     },
     "execution_count": 89,
     "metadata": {},
     "output_type": "execute_result"
    }
   ],
   "source": [
    "l.reverse()\n",
    "l"
   ]
  },
  {
   "cell_type": "code",
   "execution_count": 90,
   "id": "79021210",
   "metadata": {},
   "outputs": [
    {
     "data": {
      "text/plain": [
       "['berries', 'banana', 'apple']"
      ]
     },
     "execution_count": 90,
     "metadata": {},
     "output_type": "execute_result"
    }
   ],
   "source": [
    "swap=[\"apple\",\"banana\",\"berries\"]\n",
    "swap[0],swap[2]=swap[2],swap[0]\n",
    "swap"
   ]
  },
  {
   "cell_type": "code",
   "execution_count": null,
   "id": "4de4cc27",
   "metadata": {},
   "outputs": [],
   "source": []
  },
  {
   "cell_type": "code",
   "execution_count": null,
   "id": "ca77c1c3",
   "metadata": {},
   "outputs": [],
   "source": []
  },
  {
   "cell_type": "code",
   "execution_count": null,
   "id": "9e6303e9",
   "metadata": {},
   "outputs": [],
   "source": []
  },
  {
   "cell_type": "code",
   "execution_count": null,
   "id": "e0f120e4",
   "metadata": {},
   "outputs": [],
   "source": []
  },
  {
   "cell_type": "code",
   "execution_count": null,
   "id": "06520df5",
   "metadata": {},
   "outputs": [],
   "source": []
  }
 ],
 "metadata": {
  "kernelspec": {
   "display_name": "Python 3 (ipykernel)",
   "language": "python",
   "name": "python3"
  },
  "language_info": {
   "codemirror_mode": {
    "name": "ipython",
    "version": 3
   },
   "file_extension": ".py",
   "mimetype": "text/x-python",
   "name": "python",
   "nbconvert_exporter": "python",
   "pygments_lexer": "ipython3",
   "version": "3.9.13"
  }
 },
 "nbformat": 4,
 "nbformat_minor": 5
}
