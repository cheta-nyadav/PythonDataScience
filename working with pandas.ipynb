{
 "cells": [
  {
   "cell_type": "markdown",
   "id": "f9356824",
   "metadata": {},
   "source": [
    "## Dependencies or libraries are pre-written code to help solve problems\n",
    "\n",
    "# Pandas"
   ]
  },
  {
   "cell_type": "code",
   "execution_count": 10,
   "id": "aa0e8d43",
   "metadata": {},
   "outputs": [
    {
     "name": "stdout",
     "output_type": "stream",
     "text": [
      "   1   Eldon Base for stackable storage shelf, platinum Muhammed MacIntyre  \\\n",
      "0  2  1.7 Cubic Foot Compact \"Cube\" Office Refrigera...       Barry French   \n",
      "1  3   Cardinal Slant-D® Ring Binder, Heavy Gauge Vinyl       Barry French   \n",
      "2  4                                               R380      Clay Rozendal   \n",
      "3  5                           Holmes HEPA Air Purifier     Carlos Soltero   \n",
      "4  6  G.E. Longer-Life Indoor Recessed Floodlight Bulbs     Carlos Soltero   \n",
      "\n",
      "     3  -213.25   38.94     35  Nunavut          Storage & Organization   0.8  \n",
      "0  293   457.81  208.16  68.02  Nunavut                      Appliances  0.58  \n",
      "1  293    46.71    8.69   2.99  Nunavut  Binders and Binder Accessories  0.39  \n",
      "2  483  1198.97  195.99   3.99  Nunavut    Telephones and Communication  0.58  \n",
      "3  515    30.94   21.78   5.94  Nunavut                      Appliances  0.50  \n",
      "4  515     4.43    6.64   4.95  Nunavut              Office Furnishings  0.37  \n"
     ]
    }
   ],
   "source": [
    "import pandas\n",
    "#csvfile_path='C:\\Users\\lenovo\\Downloads\\Sample-Spreadsheet-1000-rows.csv'\n",
    "df=pandas.read_csv(r\"C:\\Users\\lenovo\\Downloads\\Sample-Spreadsheet-1000-rows.csv\",encoding='Windows-1252')\n",
    "print(df.head())"
   ]
  },
  {
   "cell_type": "code",
   "execution_count": 12,
   "id": "1a49f393",
   "metadata": {},
   "outputs": [
    {
     "data": {
      "text/html": [
       "<div>\n",
       "<style scoped>\n",
       "    .dataframe tbody tr th:only-of-type {\n",
       "        vertical-align: middle;\n",
       "    }\n",
       "\n",
       "    .dataframe tbody tr th {\n",
       "        vertical-align: top;\n",
       "    }\n",
       "\n",
       "    .dataframe thead th {\n",
       "        text-align: right;\n",
       "    }\n",
       "</style>\n",
       "<table border=\"1\" class=\"dataframe\">\n",
       "  <thead>\n",
       "    <tr style=\"text-align: right;\">\n",
       "      <th></th>\n",
       "      <th>39.000000</th>\n",
       "      <th>186.000000</th>\n",
       "      <th>206.130687</th>\n",
       "    </tr>\n",
       "  </thead>\n",
       "  <tbody>\n",
       "    <tr>\n",
       "      <th>0</th>\n",
       "      <td>42</td>\n",
       "      <td>173</td>\n",
       "      <td>226.477332</td>\n",
       "    </tr>\n",
       "    <tr>\n",
       "      <th>1</th>\n",
       "      <td>52</td>\n",
       "      <td>273</td>\n",
       "      <td>296.422865</td>\n",
       "    </tr>\n",
       "    <tr>\n",
       "      <th>2</th>\n",
       "      <td>71</td>\n",
       "      <td>415</td>\n",
       "      <td>436.632045</td>\n",
       "    </tr>\n",
       "    <tr>\n",
       "      <th>3</th>\n",
       "      <td>72</td>\n",
       "      <td>424</td>\n",
       "      <td>444.234600</td>\n",
       "    </tr>\n",
       "    <tr>\n",
       "      <th>4</th>\n",
       "      <td>116</td>\n",
       "      <td>844</td>\n",
       "      <td>795.525795</td>\n",
       "    </tr>\n",
       "  </tbody>\n",
       "</table>\n",
       "</div>"
      ],
      "text/plain": [
       "   39.000000   186.000000  206.130687\n",
       "0          42         173  226.477332\n",
       "1          52         273  296.422865\n",
       "2          71         415  436.632045\n",
       "3          72         424  444.234600\n",
       "4         116         844  795.525795"
      ]
     },
     "execution_count": 12,
     "metadata": {},
     "output_type": "execute_result"
    }
   ],
   "source": [
    "#for importing excel\n",
    "df=pandas.read_excel(r\"C:\\Users\\lenovo\\Downloads\\heapsortgraph.xlsx\")\n",
    "df.head()"
   ]
  },
  {
   "cell_type": "markdown",
   "id": "6c719a45",
   "metadata": {},
   "source": [
    "the result is stored in dataframes, df in this example,\n",
    "now we have data in our dtaframe we can use it."
   ]
  },
  {
   "cell_type": "markdown",
   "id": "e8c357b6",
   "metadata": {},
   "source": [
    "## creating a dataframe out of a dictionary"
   ]
  },
  {
   "cell_type": "code",
   "execution_count": 21,
   "id": "85776456",
   "metadata": {},
   "outputs": [
    {
     "data": {
      "text/html": [
       "<div>\n",
       "<style scoped>\n",
       "    .dataframe tbody tr th:only-of-type {\n",
       "        vertical-align: middle;\n",
       "    }\n",
       "\n",
       "    .dataframe tbody tr th {\n",
       "        vertical-align: top;\n",
       "    }\n",
       "\n",
       "    .dataframe thead th {\n",
       "        text-align: right;\n",
       "    }\n",
       "</style>\n",
       "<table border=\"1\" class=\"dataframe\">\n",
       "  <thead>\n",
       "    <tr style=\"text-align: right;\">\n",
       "      <th></th>\n",
       "      <th>Album</th>\n",
       "      <th>year</th>\n",
       "      <th>rating</th>\n",
       "    </tr>\n",
       "  </thead>\n",
       "  <tbody>\n",
       "    <tr>\n",
       "      <th>0</th>\n",
       "      <td>The pinkprint</td>\n",
       "      <td>2014</td>\n",
       "      <td>5</td>\n",
       "    </tr>\n",
       "    <tr>\n",
       "      <th>1</th>\n",
       "      <td>pink friday</td>\n",
       "      <td>2012</td>\n",
       "      <td>4</td>\n",
       "    </tr>\n",
       "    <tr>\n",
       "      <th>2</th>\n",
       "      <td>queen</td>\n",
       "      <td>2018</td>\n",
       "      <td>4</td>\n",
       "    </tr>\n",
       "  </tbody>\n",
       "</table>\n",
       "</div>"
      ],
      "text/plain": [
       "           Album  year  rating\n",
       "0  The pinkprint  2014       5\n",
       "1    pink friday  2012       4\n",
       "2          queen  2018       4"
      ]
     },
     "execution_count": 21,
     "metadata": {},
     "output_type": "execute_result"
    }
   ],
   "source": [
    "import pandas as pd\n",
    "dict={\"Album\":[\"The pinkprint\",\"pink friday\",\"queen\"]\n",
    "      ,\"year\":[2014,2012,2018],\n",
    "      \"rating\":[5,4,4]}\n",
    "album_dataframe=pd.DataFrame(dict)\n",
    "album_dataframe"
   ]
  },
  {
   "cell_type": "code",
   "execution_count": 22,
   "id": "41d631c0",
   "metadata": {},
   "outputs": [
    {
     "data": {
      "text/html": [
       "<div>\n",
       "<style scoped>\n",
       "    .dataframe tbody tr th:only-of-type {\n",
       "        vertical-align: middle;\n",
       "    }\n",
       "\n",
       "    .dataframe tbody tr th {\n",
       "        vertical-align: top;\n",
       "    }\n",
       "\n",
       "    .dataframe thead th {\n",
       "        text-align: right;\n",
       "    }\n",
       "</style>\n",
       "<table border=\"1\" class=\"dataframe\">\n",
       "  <thead>\n",
       "    <tr style=\"text-align: right;\">\n",
       "      <th></th>\n",
       "      <th>Album</th>\n",
       "      <th>rating</th>\n",
       "    </tr>\n",
       "  </thead>\n",
       "  <tbody>\n",
       "    <tr>\n",
       "      <th>0</th>\n",
       "      <td>The pinkprint</td>\n",
       "      <td>5</td>\n",
       "    </tr>\n",
       "    <tr>\n",
       "      <th>1</th>\n",
       "      <td>pink friday</td>\n",
       "      <td>4</td>\n",
       "    </tr>\n",
       "    <tr>\n",
       "      <th>2</th>\n",
       "      <td>queen</td>\n",
       "      <td>4</td>\n",
       "    </tr>\n",
       "  </tbody>\n",
       "</table>\n",
       "</div>"
      ],
      "text/plain": [
       "           Album  rating\n",
       "0  The pinkprint       5\n",
       "1    pink friday       4\n",
       "2          queen       4"
      ]
     },
     "execution_count": 22,
     "metadata": {},
     "output_type": "execute_result"
    }
   ],
   "source": [
    "#making a dataframe from existing data frame\n",
    "new_df=album_dataframe[['Album']]\n",
    "new_df\n",
    "new_df2=album_dataframe[[\"Album\",\"rating\"]]\n",
    "new_df2"
   ]
  },
  {
   "cell_type": "markdown",
   "id": "3020a602",
   "metadata": {},
   "source": [
    "## now if we want to list out all unique values in a dataframe we can\n",
    "we have method unique"
   ]
  },
  {
   "cell_type": "code",
   "execution_count": 26,
   "id": "8e22e9b0",
   "metadata": {},
   "outputs": [
    {
     "ename": "SyntaxError",
     "evalue": "invalid syntax (4075854415.py, line 2)",
     "output_type": "error",
     "traceback": [
      "\u001b[1;36m  File \u001b[1;32m\"C:\\Users\\lenovo\\AppData\\Local\\Temp\\ipykernel_6884\\4075854415.py\"\u001b[1;36m, line \u001b[1;32m2\u001b[0m\n\u001b[1;33m    df[].unique()\u001b[0m\n\u001b[1;37m       ^\u001b[0m\n\u001b[1;31mSyntaxError\u001b[0m\u001b[1;31m:\u001b[0m invalid syntax\n"
     ]
    }
   ],
   "source": [
    "new_df2[\"rating\"].unique()\n"
   ]
  },
  {
   "cell_type": "markdown",
   "id": "9538deb3",
   "metadata": {},
   "source": [
    "## working with dataframe manipulation"
   ]
  },
  {
   "cell_type": "code",
   "execution_count": 31,
   "id": "aed14994",
   "metadata": {},
   "outputs": [
    {
     "data": {
      "text/html": [
       "<div>\n",
       "<style scoped>\n",
       "    .dataframe tbody tr th:only-of-type {\n",
       "        vertical-align: middle;\n",
       "    }\n",
       "\n",
       "    .dataframe tbody tr th {\n",
       "        vertical-align: top;\n",
       "    }\n",
       "\n",
       "    .dataframe thead th {\n",
       "        text-align: right;\n",
       "    }\n",
       "</style>\n",
       "<table border=\"1\" class=\"dataframe\">\n",
       "  <thead>\n",
       "    <tr style=\"text-align: right;\">\n",
       "      <th></th>\n",
       "      <th>Album</th>\n",
       "      <th>year</th>\n",
       "      <th>rating</th>\n",
       "    </tr>\n",
       "  </thead>\n",
       "  <tbody>\n",
       "    <tr>\n",
       "      <th>0</th>\n",
       "      <td>The pinkprint</td>\n",
       "      <td>2014</td>\n",
       "      <td>5</td>\n",
       "    </tr>\n",
       "    <tr>\n",
       "      <th>1</th>\n",
       "      <td>Thanku next</td>\n",
       "      <td>2019</td>\n",
       "      <td>5</td>\n",
       "    </tr>\n",
       "    <tr>\n",
       "      <th>3</th>\n",
       "      <td>queen</td>\n",
       "      <td>2018</td>\n",
       "      <td>4</td>\n",
       "    </tr>\n",
       "    <tr>\n",
       "      <th>4</th>\n",
       "      <td>planet her</td>\n",
       "      <td>2021</td>\n",
       "      <td>4</td>\n",
       "    </tr>\n",
       "    <tr>\n",
       "      <th>5</th>\n",
       "      <td>sweetener</td>\n",
       "      <td>2018</td>\n",
       "      <td>5</td>\n",
       "    </tr>\n",
       "  </tbody>\n",
       "</table>\n",
       "</div>"
      ],
      "text/plain": [
       "           Album  year  rating\n",
       "0  The pinkprint  2014       5\n",
       "1    Thanku next  2019       5\n",
       "3          queen  2018       4\n",
       "4     planet her  2021       4\n",
       "5      sweetener  2018       5"
      ]
     },
     "execution_count": 31,
     "metadata": {},
     "output_type": "execute_result"
    }
   ],
   "source": [
    "record={\"Album\":[\"The pinkprint\",\"Thanku next\",\"pink friday\",\\\n",
    "                  \"queen\",\"planet her\",\"sweetener\"]\n",
    "      ,\"year\":[2014,2019,2012,2018,2021,2018],\n",
    "      \"rating\":[5,5,4,4,4,5]}\n",
    "df=pd.DataFrame(record)\n",
    "df\n",
    "\n",
    "#now to get all the record albums that were \n",
    "#releaased after the year 2014 we can do\n",
    "#first select the released column values as  required\n",
    "df[\"year\"]>=2014\n",
    "\n",
    "#this gives boolean true false\n",
    "# now to get the entire coulmns we put in in df[...]\n",
    "\n",
    "df1=df[df[\"year\"]>=2014]\n",
    "df1\n",
    "#this is a new dataframe with all albums \n",
    "#released after 2014."
   ]
  },
  {
   "cell_type": "markdown",
   "id": "4eff89c1",
   "metadata": {},
   "source": [
    "## saving dataframes as csv\n",
    ".to_csv(..)"
   ]
  },
  {
   "cell_type": "code",
   "execution_count": 33,
   "id": "2fa9a2c7",
   "metadata": {},
   "outputs": [],
   "source": [
    "df.to_csv(\"albumcsv.csv\")\n"
   ]
  },
  {
   "cell_type": "code",
   "execution_count": 36,
   "id": "dbd70062",
   "metadata": {},
   "outputs": [
    {
     "data": {
      "text/plain": [
       "0    The pinkprint\n",
       "1      Thanku next\n",
       "2      pink friday\n",
       "3            queen\n",
       "4       planet her\n",
       "5        sweetener\n",
       "Name: Album, dtype: object"
      ]
     },
     "execution_count": 36,
     "metadata": {},
     "output_type": "execute_result"
    }
   ],
   "source": [
    "type(df1)\n",
    "\n",
    "#to get all the values of a column as series\n",
    "x=df[\"Album\"]\n",
    "x"
   ]
  },
  {
   "cell_type": "markdown",
   "id": "3e633a8b",
   "metadata": {},
   "source": [
    "<code>loc()</code> and <code>iloc()</code> functions\n",
    "<code>loc()</code> is a label-based data selecting method which means that we have to pass the name of the row or column that we want to select. This method includes the last element of the range passed in it.\n",
    "\n",
    "Simple syntax for your understanding: \n",
    "\n",
    " - loc[row_label, column_label]\n"
   ]
  },
  {
   "cell_type": "code",
   "execution_count": 43,
   "id": "4fc5da45",
   "metadata": {},
   "outputs": [
    {
     "data": {
      "text/plain": [
       "'queen'"
      ]
     },
     "execution_count": 43,
     "metadata": {},
     "output_type": "execute_result"
    }
   ],
   "source": [
    "df\n",
    "df.iloc[3,0]\n",
    "#or with loc\n",
    "df.loc[3,\"Album\"]"
   ]
  },
  {
   "cell_type": "markdown",
   "id": "8224781d",
   "metadata": {},
   "source": [
    "## to change the index of column of a dataframe\n",
    "The second line dfcopy=dfcopy.set_index(\"Album\") sets the \"Album\" column as the new index for the dfcopy DataFrame. This means that the rows will now be identified by the values in the \"Album\" column rather than by a default integer index."
   ]
  },
  {
   "cell_type": "code",
   "execution_count": 48,
   "id": "2884e577",
   "metadata": {},
   "outputs": [
    {
     "data": {
      "text/html": [
       "<div>\n",
       "<style scoped>\n",
       "    .dataframe tbody tr th:only-of-type {\n",
       "        vertical-align: middle;\n",
       "    }\n",
       "\n",
       "    .dataframe tbody tr th {\n",
       "        vertical-align: top;\n",
       "    }\n",
       "\n",
       "    .dataframe thead th {\n",
       "        text-align: right;\n",
       "    }\n",
       "</style>\n",
       "<table border=\"1\" class=\"dataframe\">\n",
       "  <thead>\n",
       "    <tr style=\"text-align: right;\">\n",
       "      <th></th>\n",
       "      <th>year</th>\n",
       "      <th>rating</th>\n",
       "    </tr>\n",
       "    <tr>\n",
       "      <th>Album</th>\n",
       "      <th></th>\n",
       "      <th></th>\n",
       "    </tr>\n",
       "  </thead>\n",
       "  <tbody>\n",
       "    <tr>\n",
       "      <th>The pinkprint</th>\n",
       "      <td>2014</td>\n",
       "      <td>5</td>\n",
       "    </tr>\n",
       "    <tr>\n",
       "      <th>Thanku next</th>\n",
       "      <td>2019</td>\n",
       "      <td>5</td>\n",
       "    </tr>\n",
       "    <tr>\n",
       "      <th>pink friday</th>\n",
       "      <td>2012</td>\n",
       "      <td>4</td>\n",
       "    </tr>\n",
       "    <tr>\n",
       "      <th>queen</th>\n",
       "      <td>2018</td>\n",
       "      <td>4</td>\n",
       "    </tr>\n",
       "    <tr>\n",
       "      <th>planet her</th>\n",
       "      <td>2021</td>\n",
       "      <td>4</td>\n",
       "    </tr>\n",
       "    <tr>\n",
       "      <th>sweetener</th>\n",
       "      <td>2018</td>\n",
       "      <td>5</td>\n",
       "    </tr>\n",
       "  </tbody>\n",
       "</table>\n",
       "</div>"
      ],
      "text/plain": [
       "               year  rating\n",
       "Album                      \n",
       "The pinkprint  2014       5\n",
       "Thanku next    2019       5\n",
       "pink friday    2012       4\n",
       "queen          2018       4\n",
       "planet her     2021       4\n",
       "sweetener      2018       5"
      ]
     },
     "execution_count": 48,
     "metadata": {},
     "output_type": "execute_result"
    }
   ],
   "source": [
    "dfcopy=df\n",
    "dfcopy=dfcopy.set_index(\"Album\")\n",
    "dfcopy"
   ]
  }
 ],
 "metadata": {
  "kernelspec": {
   "display_name": "Python 3 (ipykernel)",
   "language": "python",
   "name": "python3"
  },
  "language_info": {
   "codemirror_mode": {
    "name": "ipython",
    "version": 3
   },
   "file_extension": ".py",
   "mimetype": "text/x-python",
   "name": "python",
   "nbconvert_exporter": "python",
   "pygments_lexer": "ipython3",
   "version": "3.9.13"
  }
 },
 "nbformat": 4,
 "nbformat_minor": 5
}
